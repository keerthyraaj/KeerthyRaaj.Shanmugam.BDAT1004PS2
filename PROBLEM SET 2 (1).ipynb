{
 "cells": [
  {
   "cell_type": "markdown",
   "metadata": {},
   "source": [
    "# Question 1\n",
    "\n",
    "    Consider the following Python module:\n",
    "    a = 0\n",
    "    def b():\n",
    "     global a\n",
    "     a = c(a)\n",
    "    def c(a):\n",
    "     return a + 2\n",
    "    After importing the module into the interpreter, you execute:\n",
    "    >>> b()\n",
    "    >>> b()\n",
    "    >>> b()\n",
    "    >>> a\n",
    "    ?\n",
    "    What value is displayed when the last expression (a) is evaluated? Explain your\n",
    "    answer by indicating what happens in every executed statement."
   ]
  },
  {
   "cell_type": "code",
   "execution_count": 15,
   "metadata": {},
   "outputs": [
    {
     "data": {
      "text/plain": [
       "6"
      ]
     },
     "execution_count": 15,
     "metadata": {},
     "output_type": "execute_result"
    }
   ],
   "source": [
    "a = 0\n",
    "def b():\n",
    "    global a\n",
    "     a = c(a)\n",
    "    \n",
    "def c(a):\n",
    "     return a + 2\n",
    "\n",
    "b()\n",
    "b()\n",
    "b()\n",
    "a"
   ]
  },
  {
   "cell_type": "markdown",
   "metadata": {},
   "source": [
    "    1. The value displayed when the last expression (a) evaluated is 6 beacuse (a) is GLOBAL VARIABLE. \n",
    "    2. When the first b() function executes (a) variable becomes (0+2) = 2 and later it becomes (2+2) = 4 and finally it becomes (4+2) = 6 \n",
    "    3. Here (a) variable is accesed by b() function because it is global variable and if (a) variable is not global variable , the b() will not have scope to access the data outside the function"
   ]
  },
  {
   "cell_type": "markdown",
   "metadata": {},
   "source": [
    "# Question 2\n",
    "\n",
    "    Function fileLength(), given to you, takes the name of a file as input and returns\n",
    "    the length of the file:\n",
    "    >>> fileLength('midterm.py')\n",
    "    284\n",
    "    >>> fileLength('idterm.py')\n",
    "    Traceback (most recent call last):\n",
    "    File \"<pyshell#34>\", line 1, in <module>\n",
    "     fileLength('idterm.py')\n",
    "    File \"/Users/me/midterm.py\", line 3, in fileLength\n",
    "     infile = open(filename)\n",
    "    FileNotFoundError: [Errno 2] No such file or directory:\n",
    "    'idterm.py'\n",
    "    As shown above, if the file cannot be found by the interpreter or if it cannot be read\n",
    "    as a text file, an exception will be raised. Modify function fileLength() so that a\n",
    "    friendly message is printed instead:\n",
    "    >>> fileLength('midterm.py')\n",
    "    358\n",
    "    >>> fileLength('idterm.py')\n",
    "    File idterm.py not found.\n"
   ]
  },
  {
   "cell_type": "code",
   "execution_count": 42,
   "metadata": {},
   "outputs": [
    {
     "name": "stdout",
     "output_type": "stream",
     "text": [
      "123\n",
      "file ilelength.txt not found.\n"
     ]
    }
   ],
   "source": [
    "def file_length(file_name):\n",
    "    try:\n",
    "        file = open(file_name)\n",
    "        contents = file.read()\n",
    "        file.close()\n",
    "        print(len(contents))\n",
    "        \n",
    "    except FileNotFoundError:\n",
    "        print(\"file \"+file_name+\" not found.\")\n",
    "        \n",
    "file_length(\"Filelength.txt\")\n",
    "file_length(\"ilelength.txt\")"
   ]
  },
  {
   "cell_type": "markdown",
   "metadata": {},
   "source": [
    "# Question 3\n",
    "    Write a class named Marsupial that can be used as shown below:\n",
    "    >>> m = Marsupial()\n",
    "    >>> m.put_in_pouch('doll')\n",
    "    >>> m.put_in_pouch('firetruck')\n",
    "    >>> m.put_in_pouch('kitten')\n",
    "    >>> m.pouch_contents()\n",
    "    ['doll', 'firetruck', 'kitten']\n",
    "    Now write a class named Kangaroo as a subclass of Marsupial that inherits all the\n",
    "    attributes of Marsupial and also:\n",
    "    a. extends the Marsupial __init__ constructor to take, as input, the\n",
    "    coordinates x and y of the Kangaroo object,\n",
    "    b. supports method jump that takes number values dx and dy as input and\n",
    "    moves the kangaroo by dx units along the x-axis and by dy units along the yaxis, and\n",
    "    c. overloads the __str__ operator so it behaves as shown below.\n",
    "    >>> k = Kangaroo(0,0)\n",
    "    >>> print(k)\n",
    "    I am a Kangaroo located at coordinates (0,0)\n",
    "    >>> k.put_in_pouch('doll')\n",
    "    >>> k.put_in_pouch('firetruck')\n",
    "    >>> k.put_in_pouch('kitten')\n",
    "    >>> k.pouch_contents()\n",
    "    ['doll', 'firetruck', 'kitten']\n",
    "    >>> k.jump(1,0)\n",
    "    >>> k.jump(1,0)\n",
    "    >>> k.jump(1,0)\n",
    "    >>> print(k)\n",
    "    I am a Kangaroo located at coordinates (3,0)"
   ]
  },
  {
   "cell_type": "code",
   "execution_count": 1,
   "metadata": {},
   "outputs": [
    {
     "name": "stdout",
     "output_type": "stream",
     "text": [
      "['doll', 'firetruck', 'kitten']\n",
      "I am a Kangaroo located at coordinates (0,0)\n",
      "['doll', 'firetruck', 'kitten']\n",
      "I am a Kangaroo located at coordinates (3,0)\n"
     ]
    }
   ],
   "source": [
    "class Marsupial:\n",
    "    def __init__(self):\n",
    "        self.items=\"\"\n",
    "        self.pouch=[]\n",
    "    def put_in_pouch(self,items):\n",
    "        self.pouch.append(items)\n",
    "    def pouch_contents(self):\n",
    "        print(self.pouch)\n",
    "class Kangaroo(Marsupial):\n",
    "    def __init__(self):\n",
    "        self.x=0\n",
    "        self.y=0\n",
    "        Marsupial.__init__(self)\n",
    "    def jump(self,x1,y1):\n",
    "        self.x=self.x+x1\n",
    "        self.y=self.y+y1\n",
    "    def __str__(self):\n",
    "        return f\"I am a Kangaroo located at coordinates ({self.x},{self.y})\"\n",
    "   \n",
    "m=Marsupial()\n",
    "m.put_in_pouch(\"doll\")\n",
    "m.put_in_pouch(\"firetruck\")\n",
    "m.put_in_pouch(\"kitten\")\n",
    "m.pouch_contents()\n",
    "\n",
    "k=Kangaroo()\n",
    "print(k)\n",
    "\n",
    "k.put_in_pouch(\"doll\")\n",
    "k.put_in_pouch(\"firetruck\")\n",
    "k.put_in_pouch(\"kitten\")\n",
    "k.pouch_contents()\n",
    "\n",
    "k.jump(1,0)\n",
    "k.jump(1,0)\n",
    "k.jump(1,0)\n",
    "print(k)"
   ]
  },
  {
   "cell_type": "markdown",
   "metadata": {},
   "source": [
    "# Question 4\n",
    "    Write function collatz() that takes a positive integer x as input and prints the\n",
    "    Collatz sequence starting at x. A Collatz sequence is obtained by repeatedly applying\n",
    "    this rule to the previous number x in the sequence:\n",
    "    x = {\n",
    "    𝑥/2 𝑖𝑓 𝑥 𝑖𝑠 𝑒𝑣𝑒𝑛\n",
    "    3𝑥 + 1 𝑖𝑓 𝑥 𝑖𝑠 𝑜𝑑𝑑\n",
    "    Your function should stop when the sequence gets to number 1. Your\n",
    "    implementation must be recursive, without any loops.\n",
    "    >>> collatz(1)\n",
    "    1\n",
    "    >>> collatz(10)\n",
    "    10\n",
    "    5\n",
    "    16\n",
    "    8\n",
    "    4\n",
    "    2\n",
    "    1\n"
   ]
  },
  {
   "cell_type": "code",
   "execution_count": 1,
   "metadata": {
    "scrolled": true
   },
   "outputs": [
    {
     "name": "stdout",
     "output_type": "stream",
     "text": [
      "1\n",
      "\n",
      "\n",
      "10\n",
      "5\n",
      "16\n",
      "8\n",
      "4\n",
      "2\n",
      "1\n"
     ]
    }
   ],
   "source": [
    "def collatz(x):\n",
    "    if x==1:\n",
    "        print(int(x))\n",
    "        return \n",
    "    elif x%2==0:\n",
    "        print(int(x))\n",
    "        return collatz(x/2)\n",
    "    else:\n",
    "        print(int(x))\n",
    "        return collatz(3*x+1)\n",
    "    \n",
    "collatz(1)     \n",
    "print(\"\\n\")\n",
    "collatz(10)      "
   ]
  },
  {
   "cell_type": "markdown",
   "metadata": {},
   "source": [
    "# Question 5\n",
    "    Write a recursive method binary() that takes a non-negative\n",
    "    integer n and prints the binary representation of integer n.\n",
    "    >>> binary(0)\n",
    "    0\n",
    "    >>> binary(1)\n",
    "    1\n",
    "    >>> binary(3)\n",
    "    11\n",
    "    >>> binary(9)\n",
    "    1001\n"
   ]
  },
  {
   "cell_type": "code",
   "execution_count": 46,
   "metadata": {},
   "outputs": [
    {
     "name": "stdout",
     "output_type": "stream",
     "text": [
      "1\n",
      "\n",
      "11\n",
      "\n",
      "1001"
     ]
    }
   ],
   "source": [
    "def binary(x):\n",
    "    if(x==0):\n",
    "        return 0\n",
    "    else:\n",
    "        binary(int(x/2))\n",
    "        print(x%2,end=\"\")\n",
    "        \n",
    "binary(1)\n",
    "print(\"\\n\")\n",
    "binary(3)\n",
    "print(\"\\n\")\n",
    "binary(9)"
   ]
  },
  {
   "cell_type": "markdown",
   "metadata": {},
   "source": [
    "# Question 6\n",
    "\n",
    "    Implement a class named HeadingParser that can be used to parse an HTML\n",
    "    document, and retrieve and print all the headings in the document. You should\n",
    "    implement your class as a subclass of HTMLParser, defined in Standard Library\n",
    "    module html.parser. When fed a string containing HTML code, your class should\n",
    "    print the headings, one per line and in the order in which they appear in the\n",
    "    document. Each heading should be indented as follows: an h1 heading should have indentation 0, and h2 heading should have indentation 1, etc. Test your\n",
    "    implementation using w3c.html.\n",
    "    >>> infile = open('w3c.html')\n",
    "    >>> content = infile.read()\n",
    "    >>> infile.close()\n",
    "    >>> hp = HeadingParser()\n",
    "    >>> hp.feed(content)\n",
    "    W3C Mission\n",
    "    Principles"
   ]
  },
  {
   "cell_type": "code",
   "execution_count": 5,
   "metadata": {},
   "outputs": [
    {
     "name": "stdout",
     "output_type": "stream",
     "text": [
      "Cricket & Football\n",
      "\tCricket Score\n",
      "\t\tFootball Goal\n"
     ]
    }
   ],
   "source": [
    "from html.parser import HTMLParser\n",
    "class parser(HTMLParser):\n",
    "    Heading=False\n",
    "    def handle_starttag(self, tag, attrs):\n",
    "        if(len(tag)==2 and tag[0]=='h'):\n",
    "            self.Heading=True\n",
    "            n=int(tag[1])\n",
    "            n=n-1\n",
    "            while n>0:\n",
    "                print(\"\\t\",end=\"\")\n",
    "                n=n-1\n",
    "    def handle_data(self,data):\n",
    "        if self.Heading:\n",
    "            print(data)\n",
    "    def handle_endtag(self,tag): \n",
    "        if self.Heading:\n",
    "            self.Heading=False\n",
    "        \n",
    "file=open(\"A.html\")\n",
    "content=file.read()\n",
    "file.close()  \n",
    "p = parser()\n",
    "p.feed(content)"
   ]
  },
  {
   "cell_type": "markdown",
   "metadata": {},
   "source": [
    "# Question 7\n",
    "\n",
    "    Implement recursive function webdir() that takes as input: a URL (as a string) and\n",
    "    non-negative integers depth and indent. Your function should visit every web\n",
    "    page reachable from the starting URL web page in depth clicks or less, and print\n",
    "    each web page's URL. As shown below, indentation, specified by indent, should\n",
    "    be used to indicate the depth of a URL.\n",
    "    >>>\n",
    "    webdir('http://reed.cs.depaul.edu/lperkovic/csc242/test1.html'\n",
    "    , 2, 0)\n",
    "    http://reed.cs.depaul.edu/lperkovic/csc242/test1.html\n",
    "     http://reed.cs.depaul.edu/lperkovic/csc242/test2.html\n",
    "     http://reed.cs.depaul.edu/lperkovic/csc242/test4.html\n",
    "     http://reed.cs.depaul.edu/lperkovic/csc242/test3.html\n",
    "     http://reed.cs.depaul.edu/lperkovic/csc242/test4.html"
   ]
  },
  {
   "cell_type": "code",
   "execution_count": 6,
   "metadata": {},
   "outputs": [
    {
     "name": "stdout",
     "output_type": "stream",
     "text": [
      "file:///C:/Users/keert/Downloads/A.html\n",
      "\thttps://www.icc-cricket.com/\n",
      "\t\thttp://www.icctravelandtours.com/\n",
      "\t\thttps://tickets.t20worldcup.com/content/wt20/home.aspx\n",
      "\t\thttps://www.t20worldcupshop.com/\n",
      "\t\thttps://www.facebook.com/icc/\n",
      "\t\thttps://twitter.com/ICC\n",
      "\t\thttps://www.instagram.com/icc/\n",
      "\t\thttps://www.youtube.com/user/CricketICC\n",
      "\t\thttp://www.cricketworldcup.com\n",
      "\t\thttps://www.icc-cricket.com/teams/men\n",
      "\t\thttps://www.icc-cricket.com/teams/women\n",
      "\t\thttps://www.icc-cricket.com/teams/u19\n",
      "\t\thttps://www.icc-cricket.com/about\n",
      "\t\thttps://www.t20worldcupshop.com/\n",
      "\t\thttp://www.icctravelandtours.com/\n",
      "\t\thttps://tickets.t20worldcup.com/content/wt20/home.aspx\n",
      "\t\thttps://www.t20worldcupshop.com/\n",
      "\t\thttps://www.icc-cricket.com/awards/player-of-the-month/mens-player-of-the-month\n",
      "\t\thttps://www.icc-cricket.com/world-test-championship\n",
      "\t\thttps://www.icc-cricket.com/cricket-world-cup-super-league/news\n",
      "\t\thttps://www.icc-cricket.com/rankings/mens/team-rankings/test\n",
      "\t\thttps://www.icc-cricket.com/register\n",
      "\t\thttps://www.icc-cricket.com/world-test-championship/standings\n",
      "\t\thttp://www.icc-cricket.com/about/development/what-is-cricket\n",
      "\t\thttp://www.icc-cricket.com/about/cricket/match-officials\n",
      "\t\thttp://track.adform.net/C/?bn=18235072\n",
      "\t\thttp://track.adform.net/C/?bn=18236015\n",
      "\t\thttp://track.adform.net/C/?bn=18235782\n",
      "\t\thttps://www.booking.com/\n",
      "\t\thttps://byjus.com/\n",
      "\t\thttp://track.adform.net/C/?bn=18236184\n",
      "\t\thttp://track.adform.net/C/?bn=18235072\n",
      "\t\thttp://track.adform.net/C/?bn=18236015\n",
      "\t\thttp://track.adform.net/C/?bn=18235782\n",
      "\t\thttps://www.booking.com/\n",
      "\t\thttps://byjus.com/\n",
      "\t\thttp://track.adform.net/C/?bn=18236184\n",
      "\t\thttp://track.adform.net/C/?bn=18238489\n",
      "\t\thttp://track.adform.net/C/?bn=18238489\n",
      "\t\thttp://track.adform.net/C/?bn=18238134\n",
      "\t\thttps://www.bira91.com/\n",
      "\t\thttp://track.adform.net/C/?bn=18238489\n",
      "\t\thttps://www.coca-cola.co.uk/\n",
      "\t\thttps://www.pernod-ricard.com/en/brands/our-brands/royal-stag/\n",
      "\t\thttps://www.ubp.com/\n",
      "\t\thttps://www.dream11.com/\n",
      "\t\thttp://smartcricket.com/\n",
      "\t\thttps://www.icc-cricket.com/about/the-icc/cricket-for-good\n",
      "\t\thttps://www.facebook.com/icc/\n",
      "\t\thttps://twitter.com/ICC\n",
      "\t\thttps://www.instagram.com/icc/\n",
      "\t\thttps://www.youtube.com/user/CricketICC\n",
      "\t\thttp://vm.tiktok.com/dsu6j8/\n",
      "\thttps://en.wikipedia.org/wiki/FIFA\n",
      "\t\thttps://commons.wikimedia.org/wiki/Category:FIFA\n",
      "\t\thttps://en.wikiquote.org/wiki/Special:Search/FIFA\n",
      "\t\thttps://commons.wikimedia.org/wiki/Category:Association_football\n",
      "\t\thttps://www.wikidata.org/wiki/Q253414#identifiers\n",
      "\t\thttps://donate.wikimedia.org/wiki/Special:FundraiserRedirector?utm_source=donate&utm_medium=sidebar&utm_campaign=C13_en.wikipedia.org&uselang=en\n",
      "\t\thttps://www.wikidata.org/wiki/Special:EntityPage/Q253414\n",
      "\t\thttps://commons.wikimedia.org/wiki/Category:FIFA\n",
      "\t\thttps://en.wikinews.org/wiki/Category:FIFA\n",
      "\t\thttps://en.wikiquote.org/wiki/FIFA\n",
      "\t\thttps://af.wikipedia.org/wiki/FIFA\n",
      "\t\thttps://als.wikipedia.org/wiki/FIFA\n",
      "\t\thttps://am.wikipedia.org/wiki/%E1%8B%A8%E1%8B%93%E1%88%88%E1%88%9D_%E1%8A%A0%E1%89%80%E1%8D%8D_%E1%8A%A5%E1%8C%8D%E1%88%AD_%E1%8A%B3%E1%88%B5_%E1%88%9B%E1%8A%85%E1%89%A0%E1%88%AD\n",
      "\t\thttps://ar.wikipedia.org/wiki/%D8%A7%D9%84%D8%A7%D8%AA%D8%AD%D8%A7%D8%AF_%D8%A7%D9%84%D8%AF%D9%88%D9%84%D9%8A_%D9%84%D9%83%D8%B1%D8%A9_%D8%A7%D9%84%D9%82%D8%AF%D9%85\n",
      "\t\thttps://as.wikipedia.org/wiki/%E0%A6%AB%E0%A6%BF%E0%A6%AB%E0%A6%BE\n",
      "\t\thttps://ast.wikipedia.org/wiki/FIFA\n",
      "\t\thttps://gn.wikipedia.org/wiki/FIFA\n",
      "\t\thttps://az.wikipedia.org/wiki/F%C4%B0FA\n",
      "\t\thttps://azb.wikipedia.org/wiki/%D9%81%DB%8C%D9%81%D8%A7\n",
      "\t\thttps://bn.wikipedia.org/wiki/%E0%A6%AB%E0%A6%BF%E0%A6%AB%E0%A6%BE\n",
      "\t\thttps://zh-min-nan.wikipedia.org/wiki/FIFA\n",
      "\t\thttps://be.wikipedia.org/wiki/%D0%A4%D0%86%D0%A4%D0%90\n",
      "\t\thttps://be-tarask.wikipedia.org/wiki/%D0%A4%D0%86%D0%A4%D0%90\n",
      "\t\thttps://bh.wikipedia.org/wiki/%E0%A4%AB%E0%A5%80%E0%A4%AB%E0%A4%BE\n",
      "\t\thttps://bcl.wikipedia.org/wiki/Internasyunal_na_Federasyon_kan_Asosasyon_nin_Futbol\n",
      "\t\thttps://bg.wikipedia.org/wiki/%D0%A4%D0%98%D0%A4%D0%90\n",
      "\t\thttps://bar.wikipedia.org/wiki/FIFA\n",
      "\t\thttps://bs.wikipedia.org/wiki/FIFA\n",
      "\t\thttps://br.wikipedia.org/wiki/Kevread_Etrebroadel_Football_Association\n",
      "\t\thttps://ca.wikipedia.org/wiki/Federaci%C3%B3_Internacional_de_Futbol_Associaci%C3%B3\n",
      "\t\thttps://ceb.wikipedia.org/wiki/FIFA\n",
      "\t\thttps://cs.wikipedia.org/wiki/FIFA\n",
      "\t\thttps://cy.wikipedia.org/wiki/Ffederasiwn_Rhyngwladol_y_Cymdeithasau_P%C3%AAl-droed\n",
      "\t\thttps://da.wikipedia.org/wiki/FIFA\n",
      "\t\thttps://de.wikipedia.org/wiki/FIFA\n",
      "\t\thttps://dty.wikipedia.org/wiki/%E0%A4%AB%E0%A4%BF%E0%A4%AB%E0%A4%BE\n",
      "\t\thttps://et.wikipedia.org/wiki/FIFA\n",
      "\t\thttps://el.wikipedia.org/wiki/FIFA\n",
      "\t\thttps://es.wikipedia.org/wiki/FIFA\n",
      "\t\thttps://eo.wikipedia.org/wiki/FIFA\n",
      "\t\thttps://eu.wikipedia.org/wiki/FIFA\n",
      "\t\thttps://fa.wikipedia.org/wiki/%D9%81%DB%8C%D9%81%D8%A7\n",
      "\t\thttps://fo.wikipedia.org/wiki/FIFA\n",
      "\t\thttps://fr.wikipedia.org/wiki/F%C3%A9d%C3%A9ration_internationale_de_football_association\n",
      "\t\thttps://ga.wikipedia.org/wiki/FIFA\n",
      "\t\thttps://gl.wikipedia.org/wiki/FIFA\n",
      "\t\thttps://gu.wikipedia.org/wiki/%E0%AA%AB%E0%AA%BF%E0%AA%AB%E0%AA%BE\n",
      "\t\thttps://ko.wikipedia.org/wiki/%EA%B5%AD%EC%A0%9C_%EC%B6%95%EA%B5%AC_%EC%97%B0%EB%A7%B9\n",
      "\t\thttps://ha.wikipedia.org/wiki/FIFA\n",
      "\t\thttps://hy.wikipedia.org/wiki/%D5%96%D4%BB%D5%96%D4%B1\n",
      "\t\thttps://hi.wikipedia.org/wiki/%E0%A4%AB%E0%A5%80%E0%A4%AB%E0%A4%BE\n",
      "\t\thttps://hr.wikipedia.org/wiki/FIFA\n",
      "\t\thttps://io.wikipedia.org/wiki/FIFA\n",
      "\t\thttps://id.wikipedia.org/wiki/FIFA\n",
      "\t\thttps://ia.wikipedia.org/wiki/FIFA\n",
      "\t\thttps://ie.wikipedia.org/wiki/FIFA\n",
      "\t\thttps://xh.wikipedia.org/wiki/FIFA\n",
      "\t\thttps://is.wikipedia.org/wiki/Al%C3%BEj%C3%B3%C3%B0aknattspyrnusambandi%C3%B0\n",
      "\t\thttps://it.wikipedia.org/wiki/F%C3%A9d%C3%A9ration_Internationale_de_Football_Association\n",
      "\t\thttps://he.wikipedia.org/wiki/%D7%A4%D7%99%D7%A4%22%D7%90\n",
      "\t\thttps://jv.wikipedia.org/wiki/F%C3%A9d%C3%A9ration_Internationale_de_Football_Association\n",
      "\t\thttps://kn.wikipedia.org/wiki/%E0%B2%AB%E0%B3%80%E0%B2%AB%E0%B2%BE\n",
      "\t\thttps://ka.wikipedia.org/wiki/%E1%83%A4%E1%83%98%E1%83%A4%E1%83%90\n",
      "\t\thttps://kk.wikipedia.org/wiki/%D0%A4%D0%98%D0%A4%D0%90\n",
      "\t\thttps://sw.wikipedia.org/wiki/FIFA\n",
      "\t\thttps://ku.wikipedia.org/wiki/FIFA\n",
      "\t\thttps://la.wikipedia.org/wiki/FIFA\n",
      "\t\thttps://lv.wikipedia.org/wiki/FIFA\n",
      "\t\thttps://lb.wikipedia.org/wiki/F%C3%A9d%C3%A9ration_Internationale_de_Football_Association\n",
      "\t\thttps://lt.wikipedia.org/wiki/FIFA\n",
      "\t\thttps://lmo.wikipedia.org/wiki/FIFA\n",
      "\t\thttps://hu.wikipedia.org/wiki/Nemzetk%C3%B6zi_Labdar%C3%BAg%C3%B3-sz%C3%B6vets%C3%A9g\n",
      "\t\thttps://mai.wikipedia.org/wiki/%E0%A4%AB%E0%A4%BF%E0%A4%AB%E0%A4%BE\n",
      "\t\thttps://mk.wikipedia.org/wiki/%D0%A4%D0%98%D0%A4%D0%90\n",
      "\t\thttps://ml.wikipedia.org/wiki/%E0%B4%AB%E0%B4%BF%E0%B4%AB\n",
      "\t\thttps://mt.wikipedia.org/wiki/FIFA\n",
      "\t\thttps://mr.wikipedia.org/wiki/%E0%A4%AB%E0%A4%BF%E0%A4%AB%E0%A4%BE\n",
      "\t\thttps://xmf.wikipedia.org/wiki/%E1%83%A4%E1%83%98%E1%83%A4%E1%83%90\n",
      "\t\thttps://arz.wikipedia.org/wiki/%D9%81%D9%8A%D9%81%D8%A7\n",
      "\t\thttps://ms.wikipedia.org/wiki/FIFA\n",
      "\t\thttps://min.wikipedia.org/wiki/FIFA\n",
      "\t\thttps://mn.wikipedia.org/wiki/%D0%9E%D0%BB%D0%BE%D0%BD_%D1%83%D0%BB%D1%81%D1%8B%D0%BD_%D1%85%D3%A9%D0%BB%D0%B1%D3%A9%D0%BC%D0%B1%D3%A9%D0%B3%D0%B8%D0%B9%D0%BD_%D1%85%D0%BE%D0%BB%D0%B1%D0%BE%D0%BE\n",
      "\t\thttps://my.wikipedia.org/wiki/%E1%80%96%E1%80%AE%E1%80%96%E1%80%AC\n",
      "\t\thttps://nl.wikipedia.org/wiki/FIFA\n",
      "\t\thttps://ne.wikipedia.org/wiki/%E0%A4%AB%E0%A4%BF%E0%A4%AB%E0%A4%BE\n",
      "\t\thttps://ja.wikipedia.org/wiki/%E5%9B%BD%E9%9A%9B%E3%82%B5%E3%83%83%E3%82%AB%E3%83%BC%E9%80%A3%E7%9B%9F\n",
      "\t\thttps://nap.wikipedia.org/wiki/FIFA\n",
      "\t\thttps://ce.wikipedia.org/wiki/%D0%A4%D0%98%D0%A4%D0%90\n",
      "\t\thttps://no.wikipedia.org/wiki/FIFA\n",
      "\t\thttps://nn.wikipedia.org/wiki/FIFA\n",
      "\t\thttps://mhr.wikipedia.org/wiki/%D0%A4%D0%98%D0%A4%D0%90\n",
      "\t\thttps://om.wikipedia.org/wiki/FIFA\n",
      "\t\thttps://uz.wikipedia.org/wiki/FIFA\n",
      "\t\thttps://pa.wikipedia.org/wiki/%E0%A8%AB%E0%A9%80%E0%A8%AB%E0%A8%BE\n",
      "\t\thttps://pnb.wikipedia.org/wiki/%D9%81%DB%8C%D9%81%D8%A7\n",
      "\t\thttps://ps.wikipedia.org/wiki/%D9%81%D9%8A%D9%81%D8%A7\n",
      "\t\thttps://pms.wikipedia.org/wiki/FIFA\n",
      "\t\thttps://pl.wikipedia.org/wiki/FIFA\n",
      "\t\thttps://pt.wikipedia.org/wiki/Federa%C3%A7%C3%A3o_Internacional_de_Futebol\n",
      "\t\thttps://kaa.wikipedia.org/wiki/FIFA\n",
      "\t\thttps://ro.wikipedia.org/wiki/Federa%C8%9Bia_Interna%C8%9Bional%C4%83_de_Fotbal_Asocia%C8%9Bie\n",
      "\t\thttps://rm.wikipedia.org/wiki/FIFA\n",
      "\t\thttps://ru.wikipedia.org/wiki/%D0%A4%D0%98%D0%A4%D0%90\n",
      "\t\thttps://sah.wikipedia.org/wiki/FIFA\n",
      "\t\thttps://sc.wikipedia.org/wiki/FIFA\n",
      "\t\thttps://sco.wikipedia.org/wiki/FIFA\n",
      "\t\thttps://sq.wikipedia.org/wiki/FIFA\n",
      "\t\thttps://scn.wikipedia.org/wiki/FIFA\n",
      "\t\thttps://si.wikipedia.org/wiki/%E0%B7%86%E0%B7%93%E0%B7%86%E0%B7%8F\n",
      "\t\thttps://simple.wikipedia.org/wiki/FIFA\n",
      "\t\thttps://sk.wikipedia.org/wiki/Medzin%C3%A1rodn%C3%A1_futbalov%C3%A1_feder%C3%A1cia\n",
      "\t\thttps://sl.wikipedia.org/wiki/FIFA\n",
      "\t\thttps://szl.wikipedia.org/wiki/FIFA\n",
      "\t\thttps://so.wikipedia.org/wiki/FIFA\n",
      "\t\thttps://ckb.wikipedia.org/wiki/%D9%81%DB%8C%D9%81%D8%A7\n",
      "\t\thttps://sr.wikipedia.org/wiki/%D0%A4%D0%B8%D1%84%D0%B0\n",
      "\t\thttps://sh.wikipedia.org/wiki/FIFA\n",
      "\t\thttps://su.wikipedia.org/wiki/FIFA\n",
      "\t\thttps://fi.wikipedia.org/wiki/Kansainv%C3%A4linen_jalkapalloliitto\n",
      "\t\thttps://sv.wikipedia.org/wiki/Fifa\n",
      "\t\thttps://tl.wikipedia.org/wiki/FIFA\n",
      "\t\thttps://ta.wikipedia.org/wiki/%E0%AE%AA%E0%AE%A9%E0%AF%8D%E0%AE%A9%E0%AE%BE%E0%AE%9F%E0%AF%8D%E0%AE%9F%E0%AF%81%E0%AE%95%E0%AF%8D_%E0%AE%95%E0%AE%BE%E0%AE%B1%E0%AF%8D%E0%AE%AA%E0%AE%A8%E0%AF%8D%E0%AE%A4%E0%AF%81%E0%AE%9A%E0%AF%8D_%E0%AE%9A%E0%AE%99%E0%AF%8D%E0%AE%95%E0%AE%99%E0%AF%8D%E0%AE%95%E0%AE%B3%E0%AE%BF%E0%AE%A9%E0%AF%8D_%E0%AE%95%E0%AF%82%E0%AE%9F%E0%AF%8D%E0%AE%9F%E0%AE%AE%E0%AF%88%E0%AE%AA%E0%AF%8D%E0%AE%AA%E0%AF%81\n",
      "\t\thttps://tt.wikipedia.org/wiki/%D0%A4%D1%83%D1%82%D0%B1%D0%BE%D0%BB_%D0%90%D1%81%D1%81%D0%BE%D1%86%D0%B8%D0%B0%D1%86%D0%B8%D1%8F%D0%BB%D3%99%D1%80%D0%B5%D0%BD%D0%B5%D2%A3_%D0%A5%D0%B0%D0%BB%D1%8B%D0%BA%D0%B0%D1%80%D0%B0_%D0%A4%D0%B5%D0%B4%D0%B5%D1%80%D0%B0%D1%86%D0%B8%D1%8F%D1%81%D0%B5\n",
      "\t\thttps://te.wikipedia.org/wiki/%E0%B0%85%E0%B0%82%E0%B0%A4%E0%B0%B0%E0%B1%8D%E0%B0%9C%E0%B0%BE%E0%B0%A4%E0%B1%80%E0%B0%AF_%E0%B0%95%E0%B0%BE%E0%B0%B2%E0%B1%8D%E0%B0%AC%E0%B0%82%E0%B0%A4%E0%B0%BF_%E0%B0%95%E0%B1%8D%E0%B0%B0%E0%B1%80%E0%B0%A1%E0%B0%BE_%E0%B0%B8%E0%B0%AE%E0%B0%BE%E0%B0%96%E0%B1%8D%E0%B0%AF\n",
      "\t\thttps://th.wikipedia.org/wiki/%E0%B8%AA%E0%B8%AB%E0%B8%9E%E0%B8%B1%E0%B8%99%E0%B8%98%E0%B9%8C%E0%B8%9F%E0%B8%B8%E0%B8%95%E0%B8%9A%E0%B8%AD%E0%B8%A5%E0%B8%A3%E0%B8%B0%E0%B8%AB%E0%B8%A7%E0%B9%88%E0%B8%B2%E0%B8%87%E0%B8%9B%E0%B8%A3%E0%B8%B0%E0%B9%80%E0%B8%97%E0%B8%A8\n",
      "\t\thttps://tg.wikipedia.org/wiki/%D0%A4%D0%98%D0%A4%D0%90\n",
      "\t\thttps://tr.wikipedia.org/wiki/FIFA\n",
      "\t\thttps://tk.wikipedia.org/wiki/FI%C2%ADFA\n",
      "\t\thttps://din.wikipedia.org/wiki/FIFA_(Ajui%C9%9Brm%C9%9B%CC%88cbai_Ad%C3%AF%C3%AFrc%C3%B6k_K%C9%9B%C9%9Bmpamaac)\n",
      "\t\thttps://uk.wikipedia.org/wiki/%D0%A4%D0%86%D0%A4%D0%90\n",
      "\t\thttps://ur.wikipedia.org/wiki/%D9%81%DB%8C%D9%81%D8%A7\n",
      "\t\thttps://vi.wikipedia.org/wiki/FIFA\n",
      "\t\thttps://war.wikipedia.org/wiki/FIFA\n",
      "\t\thttps://wuu.wikipedia.org/wiki/%E5%9B%BD%E9%99%85%E8%B6%B3%E7%90%83%E8%81%94%E5%90%88%E4%BC%9A\n",
      "\t\thttps://yo.wikipedia.org/wiki/FIFA\n",
      "\t\thttps://zh-yue.wikipedia.org/wiki/%E5%9C%8B%E9%9A%9B%E8%B6%B3%E7%90%83%E5%8D%94%E6%9C%83\n",
      "\t\thttps://zh.wikipedia.org/wiki/%E5%9B%BD%E9%99%85%E8%B6%B3%E7%90%83%E8%81%94%E5%90%88%E4%BC%9A\n",
      "\t\thttps://www.wikidata.org/wiki/Special:EntityPage/Q253414#sitelinks-wikipedia\n",
      "\t\thttps://foundation.wikimedia.org/wiki/Privacy_policy\n",
      "\t\thttps://www.mediawiki.org/wiki/Special:MyLanguage/How_to_contribute\n",
      "\t\thttps://stats.wikimedia.org/#/en.wikipedia.org\n",
      "\t\thttps://foundation.wikimedia.org/wiki/Cookie_statement\n",
      "\t\thttps://wikimediafoundation.org/\n",
      "\t\thttps://www.mediawiki.org/\n"
     ]
    }
   ],
   "source": [
    "import re\n",
    "from urllib.request import urlopen\n",
    "from html.parser import HTMLParser\n",
    "class parser(HTMLParser):\n",
    "    def __init__(self):   \n",
    "        HTMLParser.__init__(self)\n",
    "        self.url_link=False\n",
    "        self.link_lst=[]\n",
    "    def handle_starttag(self, tag, attrs):\n",
    "        if(len(tag)==1 and tag=='a'):           \n",
    "            if(attrs[0][0]==\"href\"):               \n",
    "                str1=re.search(\"http\",attrs[0][1])\n",
    "                if str1:\n",
    "                    self.url_link=True\n",
    "                    self.link_lst.append(attrs[0][1])\n",
    "                    \n",
    "    def handle_endtag(self,tag):\n",
    "        if self.url_link:              \n",
    "            self.url_link=False  \n",
    "            \n",
    "def webdir(url_list,depth,intend):\n",
    "    if depth==0:\n",
    "        for i in url_list:\n",
    "            for j in range(intend):\n",
    "                print(\"\\t\",end=\"\")\n",
    "            print(i)\n",
    "        return\n",
    "    else:    \n",
    "        for i in url_list:\n",
    "            url=i\n",
    "            for i in range(intend):\n",
    "                print(\"\\t\",end=\"\")\n",
    "            print(url)\n",
    "            page = urlopen(url)\n",
    "            html_bytes=page.read()\n",
    "            html_content=html_bytes.decode(\"UTF-8\")\n",
    "            obj=parser()\n",
    "            obj.feed(html_content)\n",
    "            l=obj.link_lst\n",
    "            webdir(l,depth-1,intend+1)  \n",
    "url=[\"file:///C:/Users/keert/Downloads/A.html\"]\n",
    "            \n",
    "webdir(url,2,0)            "
   ]
  },
  {
   "cell_type": "markdown",
   "metadata": {},
   "source": [
    "# Question 8\n",
    "\n",
    "Write SQL queries on the below database table that return:"
   ]
  },
  {
   "cell_type": "code",
   "execution_count": 54,
   "metadata": {},
   "outputs": [
    {
     "data": {
      "text/plain": [
       "<sqlite3.Cursor at 0x28864c99dc0>"
      ]
     },
     "execution_count": 54,
     "metadata": {},
     "output_type": "execute_result"
    }
   ],
   "source": [
    "import sqlite3\n",
    "connect = sqlite3.connect(\"Weather.db\")\n",
    "a=connect.cursor()\n",
    "a.execute(\"CREATE TABLE Weather(City TEXT,Country TEXT,Season TEXT,Temperature REAL,Rainfall REAL)\")\n",
    "a.execute(\"INSERT INTO Weather VALUES('Mumbai','India','Winter',24.8,5.9)\")\n",
    "a.execute(\"INSERT INTO Weather VALUES('Mumbai','India','Spring',28.4,16.2)\")\n",
    "a.execute(\"INSERT INTO Weather VALUES('Mumbai','India','Summer',27.9,1549.4)\")\n",
    "a.execute(\"INSERT INTO Weather VALUES('Mumbai','India','Fall',27.6,346.0)\")\n",
    "a.execute(\"INSERT INTO Weather VALUES('London','United Kingdom','Winter',4.2,207.7)\")\n",
    "a.execute(\"INSERT INTO Weather VALUES('London','United Kingdom','Spring',8.3,169.6)\")\n",
    "a.execute(\"INSERT INTO Weather VALUES('London','United Kingdom','Summer',15.7,157.0)\")\n",
    "a.execute(\"INSERT INTO Weather VALUES('London','United Kingdom','Fall',10.4,218.5)\")\n",
    "a.execute(\"INSERT INTO Weather VALUES('Cairo','Egypt','Winter',13.6,16.5)\")\n",
    "a.execute(\"INSERT INTO Weather VALUES('Cairo','Egypt','Spring',20.7,6.5)\")\n",
    "a.execute(\"INSERT INTO Weather VALUES('Cairo','Egypt','Summer',27.7,0.1)\")\n",
    "a.execute(\"INSERT INTO Weather VALUES('Cairo','Egypt','Fall',22.2,4.5)\")"
   ]
  },
  {
   "cell_type": "markdown",
   "metadata": {},
   "source": [
    "# a) All the temperature data."
   ]
  },
  {
   "cell_type": "code",
   "execution_count": 55,
   "metadata": {},
   "outputs": [
    {
     "name": "stdout",
     "output_type": "stream",
     "text": [
      "(24.8,)\n",
      "(28.4,)\n",
      "(27.9,)\n",
      "(27.6,)\n",
      "(4.2,)\n",
      "(8.3,)\n",
      "(15.7,)\n",
      "(10.4,)\n",
      "(13.6,)\n",
      "(20.7,)\n",
      "(27.7,)\n",
      "(22.2,)\n"
     ]
    }
   ],
   "source": [
    "a.execute(\"SELECT Temperature FROM Weather\")\n",
    "data=a.fetchall()\n",
    "for i in data:\n",
    "    print(i)"
   ]
  },
  {
   "cell_type": "markdown",
   "metadata": {},
   "source": [
    "# b) All the cities, but without repetition."
   ]
  },
  {
   "cell_type": "code",
   "execution_count": 56,
   "metadata": {},
   "outputs": [
    {
     "name": "stdout",
     "output_type": "stream",
     "text": [
      "('Mumbai',)\n",
      "('London',)\n",
      "('Cairo',)\n"
     ]
    }
   ],
   "source": [
    "a.execute(\"SELECT DISTINCT City FROM Weather\")\n",
    "data=a.fetchall()\n",
    "for i in data:\n",
    "    print(i)"
   ]
  },
  {
   "cell_type": "markdown",
   "metadata": {},
   "source": [
    "# c) All the records for India."
   ]
  },
  {
   "cell_type": "code",
   "execution_count": 57,
   "metadata": {},
   "outputs": [
    {
     "name": "stdout",
     "output_type": "stream",
     "text": [
      "('Mumbai', 'India', 'Winter', 24.8, 5.9)\n",
      "('Mumbai', 'India', 'Spring', 28.4, 16.2)\n",
      "('Mumbai', 'India', 'Summer', 27.9, 1549.4)\n",
      "('Mumbai', 'India', 'Fall', 27.6, 346.0)\n"
     ]
    }
   ],
   "source": [
    "a.execute(\"SELECT * FROM Weather WHERE Country=='India'\")\n",
    "data=a.fetchall()\n",
    "for i in data:\n",
    "    print(i)"
   ]
  },
  {
   "cell_type": "markdown",
   "metadata": {},
   "source": [
    "# d) All the Fall records."
   ]
  },
  {
   "cell_type": "code",
   "execution_count": 58,
   "metadata": {},
   "outputs": [
    {
     "name": "stdout",
     "output_type": "stream",
     "text": [
      "('Mumbai', 'India', 'Fall', 27.6, 346.0)\n",
      "('London', 'United Kingdom', 'Fall', 10.4, 218.5)\n",
      "('Cairo', 'Egypt', 'Fall', 22.2, 4.5)\n"
     ]
    }
   ],
   "source": [
    "a.execute(\"SELECT * FROM Weather WHERE Season=='Fall'\")\n",
    "data=a.fetchall()\n",
    "for i in data:\n",
    "    print(i)"
   ]
  },
  {
   "cell_type": "markdown",
   "metadata": {},
   "source": [
    "# e) The city, country, and season for which the average rainfall is between 200 and 400 millimeters."
   ]
  },
  {
   "cell_type": "code",
   "execution_count": 59,
   "metadata": {},
   "outputs": [
    {
     "name": "stdout",
     "output_type": "stream",
     "text": [
      "('Mumbai', 'India', 'Fall')\n",
      "('London', 'United Kingdom', 'Winter')\n",
      "('London', 'United Kingdom', 'Fall')\n"
     ]
    }
   ],
   "source": [
    "a.execute(\"SELECT City,Country,Season FROM Weather WHERE Rainfall>=200 AND Rainfall<=400\")\n",
    "data=a.fetchall()\n",
    "for i in data:\n",
    "    print(i)"
   ]
  },
  {
   "cell_type": "markdown",
   "metadata": {},
   "source": [
    "# f) The city and country for which the average Fall temperature is above 20 degrees, in increasing temperature order."
   ]
  },
  {
   "cell_type": "code",
   "execution_count": 60,
   "metadata": {},
   "outputs": [
    {
     "name": "stdout",
     "output_type": "stream",
     "text": [
      "('Mumbai', 'India')\n",
      "('Cairo', 'Egypt')\n"
     ]
    }
   ],
   "source": [
    "a.execute(\"SELECT City,Country FROM Weather WHERE Season=='Fall' AND Temperature>20 ORDER BY Temperature DESC\")\n",
    "data=a.fetchall()\n",
    "for i in data:\n",
    "    print(i)"
   ]
  },
  {
   "cell_type": "markdown",
   "metadata": {},
   "source": [
    "# g) The total annual rainfall for Cairo."
   ]
  },
  {
   "cell_type": "code",
   "execution_count": 61,
   "metadata": {},
   "outputs": [
    {
     "name": "stdout",
     "output_type": "stream",
     "text": [
      "[(27.6,)]\n"
     ]
    }
   ],
   "source": [
    "a.execute(\"SELECT SUM(Rainfall) FROM Weather WHERE City='Cairo'\")\n",
    "data=a.fetchall()\n",
    "print(data)"
   ]
  },
  {
   "cell_type": "markdown",
   "metadata": {},
   "source": [
    "# h) The total rainfall for each season"
   ]
  },
  {
   "cell_type": "code",
   "execution_count": 62,
   "metadata": {},
   "outputs": [
    {
     "name": "stdout",
     "output_type": "stream",
     "text": [
      "[('Fall', 569.0), ('Spring', 192.29999999999998), ('Summer', 1706.5), ('Winter', 230.1)]\n"
     ]
    }
   ],
   "source": [
    "a.execute(\"SELECT Season,SUM(Rainfall) FROM Weather GROUP BY Season\")\n",
    "data=a.fetchall()\n",
    "print(data)"
   ]
  },
  {
   "cell_type": "code",
   "execution_count": null,
   "metadata": {},
   "outputs": [],
   "source": [
    "connect.commit()\n",
    "connect.close()   "
   ]
  },
  {
   "cell_type": "markdown",
   "metadata": {},
   "source": [
    "# Question 9\n",
    "    Suppose list words is defined as follows:\n",
    "    >>> words = ['The', 'quick', 'brown', 'fox', 'jumps', 'over',\n",
    "    'the', 'lazy', 'dog']\n",
    "    Write list comprehension expressions that use list words and generate the following\n",
    "    lists:\n",
    "    a) ['THE', 'QUICK', 'BROWN', 'FOX', 'JUMPS', 'OVER', 'THE',\n",
    "    'LAZY', 'DOG']\n",
    "    b) ['the', 'quick', 'brown', 'fox', 'jumps', 'over', 'the',\n",
    "    'lazy', 'dog']\n",
    "    c) [3, 5, 5, 3, 5, 4, 3, 4, 3] (the list of lengths of words in list\n",
    "    words).\n",
    "    d) [['THE', 'the', 3], ['QUICK', 'quick', 5], ['BROWN',\n",
    "    'brown', 5], ['FOX', 'fox', 3], ['JUMPS', 'jumps', 5],\n",
    "    ['OVER', 'over', 4], ['THE', 'the', 3], ['LAZY', 'lazy',\n",
    "    4], ['DOG', 'dog', 3]] (the list containing a list for every word of list\n",
    "    words, where each list contains the word in uppercase and lowercase and the\n",
    "    length of the word.)\n",
    "    e) ['The', 'quick', 'brown', 'fox', 'jumps', 'over', 'the',\n",
    "    'lazy', 'dog'] (the list of words in list words containing 4 or more\n",
    "    characters.)"
   ]
  },
  {
   "cell_type": "code",
   "execution_count": 41,
   "metadata": {},
   "outputs": [
    {
     "name": "stdout",
     "output_type": "stream",
     "text": [
      "['THE', 'QUICK', 'BROWN', 'FOX', 'JUMPS', 'OVER', 'THE', 'LAZY', 'DOG']\n",
      "['the', 'quick', 'brown', 'fox', 'jumps', 'over', 'the', 'lazy', 'dog']\n",
      "[3, 5, 5, 3, 5, 4, 3, 4, 3]\n",
      "['THE', 'the', 3, 'QUICK', 'quick', 5, 'BROWN', 'brown', 5, 'FOX', 'fox', 3, 'JUMPS', 'jumps', 5, 'OVER', 'over', 4, 'THE', 'the', 3, 'LAZY', 'lazy', 4, 'DOG', 'dog', 3]\n",
      "['quick', 'brown', 'jumps', 'over', 'lazy']\n"
     ]
    }
   ],
   "source": [
    "words = ['The', 'quick', 'brown', 'fox', 'jumps', 'over','the', 'lazy', 'dog']\n",
    "a=[]\n",
    "for x in words:\n",
    "    y=x.upper()\n",
    "    a.append(y)\n",
    "print(a)\n",
    "\n",
    "b=[]\n",
    "for x in words:\n",
    "    y=x.lower()\n",
    "    b.append(y)\n",
    "print(b)\n",
    "\n",
    "c=[]\n",
    "for x in words:\n",
    "    y=len(x)\n",
    "    c.append(y)\n",
    "print(c)\n",
    "\n",
    "d=[]\n",
    "for x in words:\n",
    "    p=x.upper()\n",
    "    d.append(p)\n",
    "    q=x.lower()\n",
    "    d.append(q)\n",
    "    r=len(x)\n",
    "    d.append(r)\n",
    "print(d)\n",
    "\n",
    "e=[]\n",
    "for x in words:\n",
    "    if len(x) >= 4:\n",
    "       e.append(x)\n",
    "print(e)    "
   ]
  }
 ],
 "metadata": {
  "kernelspec": {
   "display_name": "Python 3",
   "language": "python",
   "name": "python3"
  },
  "language_info": {
   "codemirror_mode": {
    "name": "ipython",
    "version": 3
   },
   "file_extension": ".py",
   "mimetype": "text/x-python",
   "name": "python",
   "nbconvert_exporter": "python",
   "pygments_lexer": "ipython3",
   "version": "3.8.5"
  }
 },
 "nbformat": 4,
 "nbformat_minor": 4
}
